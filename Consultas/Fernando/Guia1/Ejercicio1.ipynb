{
 "cells": [
  {
   "cell_type": "code",
   "execution_count": 1,
   "id": "c0aa627f-0920-476e-9dd6-873a1de4ea76",
   "metadata": {},
   "outputs": [],
   "source": [
    "#Discretizacion del problema. k=Nx.Ny\n",
    "#vector columna de nx.ny valores.\n",
    "#matriz de 3x3 (para empezar)"
   ]
  },
  {
   "cell_type": "code",
   "execution_count": 2,
   "id": "f9dae9c1-57d1-45fc-88bd-aa0edf72d8d5",
   "metadata": {},
   "outputs": [],
   "source": [
    "import numpy as np\n",
    "import matplotlib.pyplot as plt"
   ]
  },
  {
   "cell_type": "code",
   "execution_count": 3,
   "id": "ed8feadd-91cf-47b1-b83b-d3cd89fc87fd",
   "metadata": {},
   "outputs": [],
   "source": [
    "#discretizar el problema\n",
    "Nx= 10\n",
    "Ny= 10\n",
    "beta = Nx/Ny\n",
    "T_A,T_B,T_C,T_D = (75,0,50,100)\n",
    "M= np.identity(Nx*Ny)\n",
    "b= np.zeros((Nx*Ny,1))\n"
   ]
  },
  {
   "cell_type": "code",
   "execution_count": 4,
   "id": "bb49da2d-c6b8-486e-90c4-156666428510",
   "metadata": {},
   "outputs": [
    {
     "name": "stdout",
     "output_type": "stream",
     "text": [
      "vertice1: 0\n",
      "abajo: 1\n",
      "abajo: 2\n",
      "abajo: 3\n",
      "abajo: 4\n",
      "abajo: 5\n",
      "abajo: 6\n",
      "abajo: 7\n",
      "abajo: 8\n",
      "vertice2: 9\n",
      "izquierda 10\n",
      "general: 11\n",
      "general: 12\n",
      "general: 13\n",
      "general: 14\n",
      "general: 15\n",
      "general: 16\n",
      "general: 17\n",
      "general: 18\n",
      "derecha1: 19\n",
      "izquierda 20\n",
      "general: 21\n",
      "general: 22\n",
      "general: 23\n",
      "general: 24\n",
      "general: 25\n",
      "general: 26\n",
      "general: 27\n",
      "general: 28\n",
      "derecha1: 29\n",
      "izquierda 30\n",
      "general: 31\n",
      "general: 32\n",
      "general: 33\n",
      "general: 34\n",
      "general: 35\n",
      "general: 36\n",
      "general: 37\n",
      "general: 38\n",
      "derecha1: 39\n",
      "izquierda 40\n",
      "general: 41\n",
      "general: 42\n",
      "general: 43\n",
      "general: 44\n",
      "general: 45\n",
      "general: 46\n",
      "general: 47\n",
      "general: 48\n",
      "derecha1: 49\n",
      "izquierda 50\n",
      "general: 51\n",
      "general: 52\n",
      "general: 53\n",
      "general: 54\n",
      "general: 55\n",
      "general: 56\n",
      "general: 57\n",
      "general: 58\n",
      "derecha1: 59\n",
      "izquierda 60\n",
      "general: 61\n",
      "general: 62\n",
      "general: 63\n",
      "general: 64\n",
      "general: 65\n",
      "general: 66\n",
      "general: 67\n",
      "general: 68\n",
      "derecha1: 69\n",
      "izquierda 70\n",
      "general: 71\n",
      "general: 72\n",
      "general: 73\n",
      "general: 74\n",
      "general: 75\n",
      "general: 76\n",
      "general: 77\n",
      "general: 78\n",
      "derecha1: 79\n",
      "izquierda 80\n",
      "general: 81\n",
      "general: 82\n",
      "general: 83\n",
      "general: 84\n",
      "general: 85\n",
      "general: 86\n",
      "general: 87\n",
      "general: 88\n",
      "derecha1: 89\n",
      "vertice3: 90\n",
      "arriba: 91\n",
      "arriba: 92\n",
      "arriba: 93\n",
      "arriba: 94\n",
      "arriba: 95\n",
      "arriba: 96\n",
      "arriba: 97\n",
      "arriba: 98\n",
      "vertice4: 99\n"
     ]
    }
   ],
   "source": [
    "Nk= Nx*Ny\n",
    "for k in range(Nk):\n",
    "    if k==0:\n",
    "        b[k]= (T_A+T_B)/2\n",
    "        \n",
    "    elif k==(Nx-1):\n",
    "        b[k]= (T_C+T_B)/2\n",
    "        \n",
    "    elif k== (Nk-Nx):\n",
    "        b[k]= (T_A+T_D)/2\n",
    "        \n",
    "    elif k==(Nk-1):\n",
    "        b[k]= (T_D+T_C)/2\n",
    "      \n",
    "    elif k<(Nx-1):\n",
    "        b[k]= T_B\n",
    "        \n",
    "    elif k>(Nk-Nx):\n",
    "        b[k]= T_D\n",
    "        \n",
    "    elif k%Nx==0:\n",
    "        b[k]= T_A\n",
    "        \n",
    "    elif (k+1)%Nx==0:\n",
    "        b[k]= T_C\n",
    "     \n",
    "    else:\n",
    "        M[k,k]= -2*(1+ beta**2)\n",
    "        M[k,k-1]= 1\n",
    "        M[k,k+1]= 1\n",
    "        M[k,k-Nx]= beta**2\n",
    "        M[k,k+Nx]= beta**2\n",
    "        \n",
    " "
   ]
  },
  {
   "cell_type": "code",
   "execution_count": 5,
   "id": "a0145ce0-b60c-4698-8d59-8f13f41b7fcf",
   "metadata": {},
   "outputs": [
    {
     "data": {
      "text/plain": [
       "<matplotlib.image.AxesImage at 0x2610ef31220>"
      ]
     },
     "execution_count": 5,
     "metadata": {},
     "output_type": "execute_result"
    },
    {
     "data": {
      "image/png": "[encoded data removed]",
      "text/plain": [
       "<Figure size 432x288 with 1 Axes>"
      ]
     },
     "metadata": {
      "needs_background": "light"
     },
     "output_type": "display_data"
    }
   ],
   "source": [
    "plt.imshow(M)"
   ]
  },
  {
   "cell_type": "markdown",
   "id": "26a3ce75-6177-499a-83fd-ae29eebe29ae",
   "metadata": {},
   "source": [
    "## Solucion"
   ]
  },
  {
   "cell_type": "code",
   "execution_count": 6,
   "id": "fec96791-38a5-4939-ab4a-985fdd240fd6",
   "metadata": {},
   "outputs": [
    {
     "data": {
      "text/plain": [
       "array([[ 37.5       ],\n",
       "       [  0.        ],\n",
       "       [  0.        ],\n",
       "       [  0.        ],\n",
       "       [  0.        ],\n",
       "       [  0.        ],\n",
       "       [  0.        ],\n",
       "       [  0.        ],\n",
       "       [  0.        ],\n",
       "       [ 25.        ],\n",
       "       [ 75.        ],\n",
       "       [ 38.52819502],\n",
       "       [ 24.72611956],\n",
       "       [ 18.78895108],\n",
       "       [ 16.09515541],\n",
       "       [ 15.14477239],\n",
       "       [ 15.69506772],\n",
       "       [ 18.55523658],\n",
       "       [ 26.71365837],\n",
       "       [ 50.        ],\n",
       "       [ 75.        ],\n",
       "       [ 54.38666053],\n",
       "       [ 41.58733214],\n",
       "       [ 34.33452935],\n",
       "       [ 30.44689819],\n",
       "       [ 28.78886642],\n",
       "       [ 29.08026192],\n",
       "       [ 31.81222024],\n",
       "       [ 38.2993969 ],\n",
       "       [ 50.        ],\n",
       "       [ 75.        ],\n",
       "       [ 62.43111495],\n",
       "       [ 52.90201913],\n",
       "       [ 46.51493599],\n",
       "       [ 42.56904156],\n",
       "       [ 40.48353319],\n",
       "       [ 40.02489331],\n",
       "       [ 41.31398553],\n",
       "       [ 44.671709  ],\n",
       "       [ 50.        ],\n",
       "       [ 75.        ],\n",
       "       [ 67.43578016],\n",
       "       [ 61.07469342],\n",
       "       [ 56.25415392],\n",
       "       [ 52.83079887],\n",
       "       [ 50.55133145],\n",
       "       [ 49.22179261],\n",
       "       [ 48.74711959],\n",
       "       [ 49.07345356],\n",
       "       [ 50.        ],\n",
       "       [ 75.        ],\n",
       "       [ 71.23731225],\n",
       "       [ 67.70682048],\n",
       "       [ 64.59618741],\n",
       "       [ 61.94866855],\n",
       "       [ 59.66920113],\n",
       "       [ 57.5638261 ],\n",
       "       [ 55.37924665],\n",
       "       [ 52.87498566],\n",
       "       [ 50.        ],\n",
       "       [ 75.        ],\n",
       "       [ 74.80664838],\n",
       "       [ 73.91908883],\n",
       "       [ 72.47510669],\n",
       "       [ 70.69848679],\n",
       "       [ 68.61297842],\n",
       "       [ 65.98506401],\n",
       "       [ 62.33105524],\n",
       "       [ 57.04724243],\n",
       "       [ 50.        ],\n",
       "       [ 75.        ],\n",
       "       [ 79.07019244],\n",
       "       [ 80.68777976],\n",
       "       [ 80.68666371],\n",
       "       [ 79.75719351],\n",
       "       [ 78.09916175],\n",
       "       [ 75.43239629],\n",
       "       [ 70.91266786],\n",
       "       [ 62.98292882],\n",
       "       [ 50.        ],\n",
       "       [ 75.        ],\n",
       "       [ 85.78634163],\n",
       "       [ 89.07517407],\n",
       "       [ 89.8265749 ],\n",
       "       [ 89.54446179],\n",
       "       [ 88.59407877],\n",
       "       [ 86.73269154],\n",
       "       [ 82.90429109],\n",
       "       [ 73.97180498],\n",
       "       [ 50.        ],\n",
       "       [ 87.5       ],\n",
       "       [100.        ],\n",
       "       [100.        ],\n",
       "       [100.        ],\n",
       "       [100.        ],\n",
       "       [100.        ],\n",
       "       [100.        ],\n",
       "       [100.        ],\n",
       "       [100.        ],\n",
       "       [ 75.        ]])"
      ]
     },
     "execution_count": 6,
     "metadata": {},
     "output_type": "execute_result"
    }
   ],
   "source": [
    "Temp= np.linalg.solve(M,b)\n"
   ]
  },
  {
   "cell_type": "code",
   "execution_count": 7,
   "id": "2cfc23b2-e1b6-4798-9263-12fdd8d36ab9",
   "metadata": {},
   "outputs": [],
   "source": [
    "\n",
    "Temp_plot= Temp.flatten().reshape(Nx,Ny)"
   ]
  },
  {
   "cell_type": "code",
   "execution_count": 9,
   "id": "07b9c9aa-0bb6-4906-8c6b-3f27bd579044",
   "metadata": {},
   "outputs": [
    {
     "data": {
      "text/plain": [
       "<matplotlib.image.AxesImage at 0x2610faf26a0>"
      ]
     },
     "execution_count": 9,
     "metadata": {},
     "output_type": "execute_result"
    },
    {
     "data": {
      "image/png": "[encoded data removed]",
      "text/plain": [
       "<Figure size 432x288 with 1 Axes>"
      ]
     },
     "metadata": {
      "needs_background": "light"
     },
     "output_type": "display_data"
    }
   ],
   "source": [
    "plt.imshow(Temp_plot)"
   ]
  },
  {
   "cell_type": "code",
   "execution_count": null,
   "id": "0b12b0b0-1ddb-457a-9d09-043896ddcbd3",
   "metadata": {},
   "outputs": [],
   "source": []
  }
 ],
 "metadata": {
  "kernelspec": {
   "display_name": "Python 3 (ipykernel)",
   "language": "python",
   "name": "python3"
  },
  "language_info": {
   "codemirror_mode": {
    "name": "ipython",
    "version": 3
   },
   "file_extension": ".py",
   "mimetype": "text/x-python",
   "name": "python",
   "nbconvert_exporter": "python",
   "pygments_lexer": "ipython3",
   "version": "3.9.10"
  }
 },
 "nbformat": 4,
 "nbformat_minor": 5
}
