{
 "cells": [
  {
   "cell_type": "markdown",
   "id": "c30ed739-94de-43a7-a84d-927d391b71f4",
   "metadata": {},
   "source": [
    "## Ejercicio 7 ##"
   ]
  },
  {
   "cell_type": "code",
   "execution_count": 1,
   "id": "16d3e335-85a7-4e7a-bf2b-b96b504f7ac3",
   "metadata": {},
   "outputs": [],
   "source": [
    "import numpy as np\n",
    "import matplotlib.pyplot as plt"
   ]
  },
  {
   "cell_type": "code",
   "execution_count": 2,
   "id": "f7060a42-b4ef-4f94-ada9-79f1e76caaee",
   "metadata": {},
   "outputs": [],
   "source": [
    "#datos\n",
    "x0= 0\n",
    "x1= 30\n",
    "pasos1= 5\n",
    "pasos2= 0.05\n",
    "pasos3= 1\n",
    "pasos4=0.5\n",
    "#funcion\n",
    "F= lambda z: 200*(z/(5+z))*np.exp(-2*z/30)\n",
    "coef=[1,1]\n",
    "t=[-1/np.sqrt(3),1/np.sqrt(3)] "
   ]
  },
  {
   "cell_type": "markdown",
   "id": "190bf7bb-f39e-47a1-a3cb-08237daebfaf",
   "metadata": {},
   "source": [
    "## Metodo Trapecios"
   ]
  },
  {
   "cell_type": "code",
   "execution_count": 3,
   "id": "2bc67947-c321-4ba8-8158-4c64a4d46fd3",
   "metadata": {},
   "outputs": [],
   "source": [
    "def trapecios(x0,x1,pasos,f):\n",
    "    cant_pasos= round((x1-x0)/pasos)\n",
    "    x=np.linspace(x0,x1,cant_pasos)\n",
    "    #print('los x con el metodo trapecios son: ',x)\n",
    "    suma= f(x1)+f(x0)\n",
    "    for i in range(1,cant_pasos-1):\n",
    "        suma=suma + 2*f(x[i])\n",
    "    \n",
    "    integral_trap= (x1-x0)/cant_pasos *suma/2\n",
    "    return(integral_trap)"
   ]
  },
  {
   "cell_type": "markdown",
   "id": "1912b3c4-398a-4c83-9754-99080dc78da3",
   "metadata": {},
   "source": [
    "## Simpson"
   ]
  },
  {
   "cell_type": "code",
   "execution_count": 4,
   "id": "da43d9d5-8129-427d-91fe-6c9d2412293b",
   "metadata": {},
   "outputs": [],
   "source": [
    "def simpson(x0,x1,pasos,f):\n",
    "    cant_pasos= round((x1-x0)/pasos)\n",
    "    if cant_pasos % 2 ==1:\n",
    "        return(print('El metodo no puede realizarce, se necesita una cantidad de pasos impar'))\n",
    "    x=np.linspace(x0,x1,cant_pasos)\n",
    "    #print('los x con el metodo simpson son: ',x)\n",
    "    suma= f(x1)+f(x0)\n",
    "    \n",
    "    for i in range(1,cant_pasos-1):\n",
    "        if i%2 == 0: #el i es par\n",
    "            suma+=4*f(x[i])\n",
    "        else:\n",
    "            suma+=2*f(x[i])\n",
    "    integral_simpson= (x1-x0)/(cant_pasos-1) *suma/3\n",
    "    return(integral_simpson)"
   ]
  },
  {
   "cell_type": "markdown",
   "id": "3ab63f48-0054-4f35-82c3-99915885dbc5",
   "metadata": {},
   "source": [
    "## Cuadratura de Gauss        "
   ]
  },
  {
   "cell_type": "code",
   "execution_count": 5,
   "id": "9d562e03-8f1c-4574-8b3c-471ff972f9ac",
   "metadata": {},
   "outputs": [],
   "source": [
    "def cuadratura_gauss(x0,x1,coef,t,f):\n",
    "    #coef es un vector donde contiene los valores de los coeficientes de gauss a usar\n",
    "    #si el vector coef tiene 3 elementos implica que se usaran 3 puntos para integrar\n",
    "    #realizo la tralacion de los limites para estar en [-1,1]\n",
    "    m=(x1-x0)/2\n",
    "    c=(x1+x0)/2\n",
    "    h= lambda x: m*x+c #hago la composicion de funciones para calcular la integral\n",
    "    suma=0\n",
    "    for i in range(len(coef)):\n",
    "        suma=suma+coef[i]*f(h(t[i]))\n",
    "    integral_gauss=suma*m\n",
    "    return(integral_gauss)"
   ]
  },
  {
   "cell_type": "markdown",
   "id": "f514be05-cabc-495e-a9a5-65a49599fbda",
   "metadata": {},
   "source": [
    "## **Prueba de las funciones**"
   ]
  },
  {
   "cell_type": "code",
   "execution_count": 10,
   "id": "b48f3016-1571-4ee2-a754-5b5228a8f13e",
   "metadata": {},
   "outputs": [],
   "source": [
    "int_trapecios= trapecios(x0,x1,pasos2,F)\n",
    "int_simpson= simpson(x0,x1,pasos2,F)\n",
    "int_gauss= cuadratura_gauss(x0,x1,coef,t,F)"
   ]
  },
  {
   "cell_type": "code",
   "execution_count": 11,
   "id": "0e17a101-4f45-43c3-825b-a96e258e30bb",
   "metadata": {},
   "outputs": [
    {
     "name": "stdout",
     "output_type": "stream",
     "text": [
      "1478.09221911319 1480.55175842333 1610.5722652945797\n"
     ]
    }
   ],
   "source": [
    "print(int_trapecios, int_simpson, int_gauss)"
   ]
  },
  {
   "cell_type": "code",
   "execution_count": null,
   "id": "c8ce6efb-89ba-4219-9fac-3deecb75b0f5",
   "metadata": {},
   "outputs": [],
   "source": []
  }
 ],
 "metadata": {
  "kernelspec": {
   "display_name": "Python 3 (ipykernel)",
   "language": "python",
   "name": "python3"
  },
  "language_info": {
   "codemirror_mode": {
    "name": "ipython",
    "version": 3
   },
   "file_extension": ".py",
   "mimetype": "text/x-python",
   "name": "python",
   "nbconvert_exporter": "python",
   "pygments_lexer": "ipython3",
   "version": "3.9.10"
  }
 },
 "nbformat": 4,
 "nbformat_minor": 5
}
