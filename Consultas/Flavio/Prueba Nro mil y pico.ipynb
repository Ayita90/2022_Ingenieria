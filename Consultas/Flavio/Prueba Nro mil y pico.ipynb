{
 "cells": [
  {
   "cell_type": "code",
   "execution_count": 1,
   "metadata": {
    "id": "fxTr0dnf8_LN"
   },
   "outputs": [],
   "source": [
    "import numpy as np\n",
    "from numpy.random import rand\n",
    "import matplotlib.pyplot as plt"
   ]
  },
  {
   "cell_type": "markdown",
   "metadata": {
    "id": "e4aDNyIgybz3"
   },
   "source": [
    "El modelo que estoy planteando es:\n",
    "\n",
    "Superficie con mínimos de potencial(huecos)donde se produce la adsorción de las moleculas. Esta superficie no presenta modificaciones por la adorsión de las moleculas.\n",
    "\n",
    "\n",
    "Adsorción de monomeros, esto es que una molecula ocupa un solo lugar. Por ejemplo si fuese dimeros, seria que una molecula ocupa dos lugares.\n",
    "\n",
    "En este modelo el hamiltoniano\n",
    "\n",
    "$$\n",
    "H=\\dfrac{1}{2}\\sum_{i}^{M} \\sum_{j(i)}wc_{i}c_{j}+(U_{o}-\\mu)\\sum_{i}c_{i}\n",
    "$$\n",
    "\n",
    "Donde $M$ es el número de huecos, $w$ es la interacición a primeros vecinos, $c$ vale 1 si el huevo está ocupado y 0 si está desocupado, $U_{o}$ es la energía de interacción con la superficie y $\\mu$ el potencial químico.\n",
    "\n",
    "Ahora suponiendo que no hay interacción a primeros vecinos y $U_{o}$ es cero(no pierde generalidad)\n",
    "\n",
    "La probabilidad de tener N moleculas adsorbidas en el ensable gran canonico tenemos:\n",
    "\n",
    "$$\n",
    "P(N)=\\dfrac{e^{  -\\dfrac{1}{KbT} \\left( -\\mu\\sum_{i}c_{i} \\right) }}{\\Xi(\\mu,T,N)}\n",
    "$$\n",
    "\n",
    "Entonces la probabilidad de adsorcion sin interección a primero vecinos es:\n",
    "\n",
    "$$\n",
    "P_{ads}=e^{\\left(\\dfrac{2\\mu}{KbT}\\right)}\n",
    "$$\n",
    "\n",
    "$$\n",
    "P_{des}=e^{\\left(\\dfrac{-2\\mu}{KbT}\\right)}\n",
    "$$\n",
    "\n",
    "\n",
    "modificar el potencial químico es lo mismo que modificar el logaritmo natural de la presión"
   ]
  },
  {
   "cell_type": "code",
   "execution_count": null,
   "metadata": {
    "id": "CUWo3hoG9agK"
   },
   "outputs": [],
   "source": [
    "def metropolis(Ei,L,mu,T,kb):\n",
    "    L = Ei.shape[0] \n",
    "    M = L*L #tamaño de la malla\n",
    "   \n",
    "    x = np.random.randint(0,L)\n",
    "    y = np.random.randint(0,L)\n",
    "    if Ei[x,y] == 1: #intento desorber\n",
    "        p = np.random.rand(1)\n",
    "        Pdes = np.exp(-mu/kb*T)              \n",
    "        if p < (Pdes):\n",
    "            Ei[x,y]=0\n",
    "            \n",
    "\n",
    "    else: #Ei[x,y] == 0: #intento adsorber\n",
    "        p = np.random.rand(1)\n",
    "        Pads = np.exp(mu/kb*T)\n",
    "        if p < (Pads):\n",
    "            Ei[x,y] = 1\n",
    "            \n",
    "    Ef=Ei\n",
    "    N = np.count_nonzero(Ef) #sitios ocupados\n",
    "    \n",
    "    recu=N/M #recubrimiento por agregar o quitar una molecula\n",
    "    return recu,Ef"
   ]
  },
  {
   "cell_type": "code",
   "execution_count": 2,
   "metadata": {
    "id": "h0bWgoD3m8Om"
   },
   "outputs": [],
   "source": [
    "def termalizar(Terma,Ei,L,mu,T,kb): #hago montecarlo Terma veces para llegar a un seudoequilibrio, esto deberia hacerlo antes de buscar el promedio del recubirmiento para cada potencial \n",
    "    for i in range (Terma):\n",
    "        for j in range (L*L): #montecarlo\n",
    "            L = Ei.shape[0] \n",
    "            M = L*L\n",
    "    \n",
    "            x = np.random.randint(0,L)\n",
    "            y = np.random.randint(0,L)\n",
    "            if Ei[x,y] == 1: #intento desorber\n",
    "                p = np.random.rand(1)\n",
    "                Pdes = np.exp(-mu/kb*T)              \n",
    "                if p < (Pdes):\n",
    "                    Ei[x,y]=0\n",
    "              \n",
    " \n",
    "            else: #intento adsorber\n",
    "                p = np.random.rand(1)\n",
    "                Pads = np.exp(mu/kb*T)\n",
    "                if p < (Pads):\n",
    "                    Ei[x,y] = 1\n",
    "            \n",
    " \n",
    "    Efterma = Ei #Estado luego de termalizar\n",
    "\n",
    "    return Efterma"
   ]
  },
  {
   "cell_type": "code",
   "execution_count": 3,
   "metadata": {
    "id": "GiZsLBBx1mtL"
   },
   "outputs": [],
   "source": [
    "def Equilibrio(Equi,Efterma,L,mu,T,kb):\n",
    "    contador=0 #tiene q volver a cero cuando cambio de potencial\n",
    "    recuMS=0 #tiene q volver a cero cuando cambio de pontencial\n",
    "    for i in range (Equi):  \n",
    "        for j in range (L*L): #montecarlo\n",
    "            L = Efterma.shape[0] \n",
    "            M = L*L \n",
    "    \n",
    "            x = np.random.randint(0,L)\n",
    "            y = np.random.randint(0,L)\n",
    "            if Efterma[x,y] == 1: #intento desorber\n",
    "                p = np.random.uniform(0,1)\n",
    "                Pdes = np.exp(-mu/kb*T)              \n",
    "                if p < (Pdes):\n",
    "                    Efterma[x,y]=0\n",
    "                \n",
    " \n",
    "            else: #intento adsorber\n",
    "                p = np.random.uniform(0,1)\n",
    "                Pads = np.exp(mu/kb*T)\n",
    "                if p < (Pads):\n",
    "                    Efterma[x,y] = 1\n",
    "                    \n",
    "        E_equi=Efterma        \n",
    "        N = np.count_nonzero(E_equi) #numero de particulas adsorbidas por cada i\n",
    "        recuM=N/M #cubrimiento en cada vez q hago montecarlo o sea cada i\n",
    "        \n",
    "        if recuM != 0: #si es distinto de cero junta el recuM en recuMS y suma un contador\n",
    "            recuMS =+ recuM\n",
    "            contador =+ 1\n",
    "        else: \n",
    "            contador = 1 #si no adsorbe nada pongo contador 1 para q no tire error, de todas maneras\n",
    "                         #recuMS va a ser cero todavía, entonces recuP va a ser cero\n",
    "    \n",
    "    \n",
    "    recuP=recuMS/contador #hago el promedio de todos los recubrimientos por cada montecarlo\n",
    "    return recuP,E_equi"
   ]
  },
  {
   "cell_type": "code",
   "execution_count": 4,
   "metadata": {
    "colab": {
     "base_uri": "https://localhost:8080/",
     "height": 331
    },
    "id": "5PRyMldC9dQs",
    "outputId": "aa05ee52-3add-4758-97c3-60f2e6c87462"
   },
   "outputs": [
    {
     "name": "stdout",
     "output_type": "stream",
     "text": [
      "CPU times: user 12min 38s, sys: 2.94 s, total: 12min 41s\n",
      "Wall time: 12min 46s\n"
     ]
    },
    {
     "data": {
      "image/png": "[encoded data removed]",
      "text/plain": [
       "<Figure size 432x288 with 1 Axes>"
      ]
     },
     "metadata": {
      "needs_background": "light"
     },
     "output_type": "display_data"
    }
   ],
   "source": [
    "%%time\n",
    "L = 20 #tamaño de la malla LxL\n",
    "mui = -5\n",
    "muf = 10\n",
    "dmu = 1\n",
    "Terma = 100\n",
    "Equi = 10000\n",
    "T=1\n",
    "kb=1\n",
    "Ei = np.zeros((L, L)) #estado incila vacío\n",
    "Potenciales=[]\n",
    "Recubrimiento=[]\n",
    "\n",
    "for mu in range(mui,(muf+dmu),dmu):\n",
    "    Efterma=termalizar(Terma,Ei,L,mu,T,kb)\n",
    "    recuP,E_equi=Equilibrio(Equi,Efterma,L,mu,T,kb)\n",
    "    Ei=E_equi\n",
    "    \n",
    "    \n",
    "    Potenciales.append(mu)\n",
    "    Recubrimiento.append(recuP)\n",
    "\n",
    "plt.plot(Potenciales,Recubrimiento)\n",
    "plt.title('Isoterma de adsorción')\n",
    "plt.ylabel('Recubrimiento')\n",
    "plt.xlabel('Potencial químico')\n",
    "\n",
    " "
   ]
  },
  {
   "cell_type": "code",
   "execution_count": 6,
   "metadata": {
    "colab": {
     "base_uri": "https://localhost:8080/",
     "height": 330
    },
    "id": "rh_vwiHT9wGa",
    "outputId": "842314c2-b1ab-4974-a2ba-9aab839fff3a"
   },
   "outputs": [
    {
     "name": "stdout",
     "output_type": "stream",
     "text": [
      "CPU times: user 39min 32s, sys: 13 s, total: 39min 45s\n",
      "Wall time: 39min 51s\n"
     ]
    },
    {
     "data": {
      "image/png": "[encoded data removed]",
      "text/plain": [
       "<Figure size 432x288 with 1 Axes>"
      ]
     },
     "metadata": {
      "needs_background": "light"
     },
     "output_type": "display_data"
    }
   ],
   "source": [
    "%%time\n",
    "# voy a ver la convergencia de Equilibrio en Potencial fijo 0\n",
    "L = 20 #tamaño de la malla LxL\n",
    "Terma = 1\n",
    "mu=0\n",
    "T=1\n",
    "kb=1\n",
    "Ei = np.zeros((L, L)) #estado incila vacío\n",
    "Potenciales=[]\n",
    "Recubrimiento=[]\n",
    "NdeM=[] #numero de montecarlos al equilibrio\n",
    "Efterma=termalizar(Terma,Ei,L,mu,T,kb)\n",
    "\n",
    "for Equi in range(1,1001,1):\n",
    "    recuP,E_equi=Equilibrio(Equi,Efterma,L,mu,T,kb)\n",
    "    Recubrimiento.append(recuP)\n",
    "    NdeM.append(Equi)\n",
    "\n",
    "plt.plot(NdeM,Recubrimiento)\n",
    "plt.title('convergencia al equilibrio')\n",
    "plt.ylabel('Recubrimiento')\n",
    "plt.xlabel('número de veces de montecarlo')   \n",
    " \n"
   ]
  },
  {
   "cell_type": "markdown",
   "metadata": {
    "id": "4hiaReYfyb0P"
   },
   "source": [
    "Hasta acá logré sacar algo parecido a una isoterma. Parecida a la de Langmuir(ponele)\n",
    "\n",
    "Por otro lado intenté evaluar la convergencia al equilibrio (Ver cuantos pasos de montecarlo son necesarios para que de un valor de recubrimiento constante) pero me dio que le da lo mismo 10 o 1000 pasos. Acá no sé si estoy haciendo algo mal con el código o simplemente al ser tan simple el modelo llega al equilibrio rápido. Entonces ahora es cuando no sé para que lado disparar, estaba pensando en las siguientes cosas:\n",
    "\n",
    "$\\textbf{1-}$ agregar interacción a primeros vecinos y ver que pasa, aunque viendo como va a quedar la probabilidad:\n",
    "$$\n",
    "P_{ads}=e^{\\left(\\dfrac{2\\mu-\\epsilon_{j}}{KbT}\\right)}\n",
    "$$\n",
    "\n",
    "$$\n",
    "P_{des}=e^{\\left(\\dfrac{-2\\mu+\\epsilon_{j}}{KbT}\\right)}\n",
    "$$\n",
    "donde $\\epsilon$ es la interacción que puede ser positiva o negativa.\n",
    "Viendo esto lo que va a suceder es que la curva se achate un poco o se ponga mas vertical según el signo de la interacción.\n",
    "\n",
    "$\\textbf{2-}$ En vez de hacer monomeros, o sea, que cada particula ocupe 1 hueco, puedo hacer de dimeros, o sea, que cada particula ocupe 2 huecos. Esto me da la sensación que le va a costar llegar al equilibrio porque  restringe la configuración de adsorción, aunque no estoy seguro, lo que si estoy seguro es que va a costar mas recursos para los cálculos.\n",
    "\n",
    "$\\textbf{3-}$ Podria intentar de hacer que mas de una particula pueda ocupar un mismo hueco, agregar la interacción con la superficie y decir que la segunda particula que se adosrbe tenga menos interacción con la superficie que la primera, si no me equivoco debería salir una curva mas parecida a una isoterma BET. Esta me interesa un poco más.\n"
   ]
  },
  {
   "cell_type": "code",
   "execution_count": null,
   "metadata": {
    "id": "G-rGTkSFyb0R"
   },
   "outputs": [],
   "source": []
  }
 ],
 "metadata": {
  "colab": {
   "collapsed_sections": [],
   "name": "Prueba mil.ipynb",
   "provenance": []
  },
  "kernelspec": {
   "display_name": "Python 3 (ipykernel)",
   "language": "python",
   "name": "python3"
  },
  "language_info": {
   "codemirror_mode": {
    "name": "ipython",
    "version": 3
   },
   "file_extension": ".py",
   "mimetype": "text/x-python",
   "name": "python",
   "nbconvert_exporter": "python",
   "pygments_lexer": "ipython3",
   "version": "3.9.10"
  }
 },
 "nbformat": 4,
 "nbformat_minor": 4
}
