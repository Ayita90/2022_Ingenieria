{
  "cells": [
    {
      "cell_type": "code",
      "execution_count": 1,
      "metadata": {
        "id": "fxTr0dnf8_LN"
      },
      "outputs": [],
      "source": [
        "import numpy as np\n",
        "from numpy.random import rand\n",
        "import matplotlib.pyplot as plt"
      ]
    },
    {
      "cell_type": "code",
      "execution_count": 2,
      "metadata": {
        "id": "h0bWgoD3m8Om"
      },
      "outputs": [],
      "source": [
        "def termalizar(Terma,Ei,L,mu,T,kb): #hago montecarlo Terma veces para llegar a un seudoequilibrio, esto deberia hacerlo antes de buscar el promedio del recubirmiento para cada potencial \n",
        "    for i in range (Terma):\n",
        "        for j in range (L*L): #montecarlo\n",
        "            L = Ei.shape[0] \n",
        "            M = L*L\n",
        "    \n",
        "            x = np.random.randint(0,L)\n",
        "            y = np.random.randint(0,L)\n",
        "            Epriv = epsi*(Ei[(x-1),y]+Ei[x,(y-1)]+Ei[(x+1)%L,y]+Ei[x,(y+1)%L])\n",
        "            if Ei[x,y] == 1: #intento desorber\n",
        "                p = np.random.rand(1)\n",
        "                Pdes = np.exp((-mu+Epriv)/kb*T)              \n",
        "                if p < (Pdes):\n",
        "                    Ei[x,y]=0\n",
        "              \n",
        " \n",
        "            else: #intento adsorber\n",
        "                p = np.random.rand(1)\n",
        "                Pads = np.exp((mu-Epriv)/kb*T)\n",
        "                if p < (Pads):\n",
        "                    Ei[x,y] = 1\n",
        "            \n",
        " \n",
        "    Efterma = Ei #Estado luego de termalizar\n",
        "\n",
        "    return Efterma"
      ]
    },
    {
      "cell_type": "code",
      "execution_count": 3,
      "metadata": {
        "id": "GiZsLBBx1mtL"
      },
      "outputs": [],
      "source": [
        "def Equilibrio(Equi,Efterma,L,mu,T,kb):\n",
        "    contador=0 #tiene q volver a cero cuando cambio de potencial\n",
        "    recuMS=0 #tiene q volver a cero cuando cambio de pontencial\n",
        "    for i in range (Equi):  \n",
        "        for j in range (L*L): #montecarlo\n",
        "            L = Efterma.shape[0] \n",
        "            M = L*L \n",
        "    \n",
        "            x = np.random.randint(0,L)\n",
        "            y = np.random.randint(0,L)\n",
        "            Epriv = epsi*(Efterma[(x-1),y]+Efterma[x,(y-1)]+Efterma[(x+1)%L,y]+Efterma[x,(y+1)%L])\n",
        "            if Efterma[x,y] == 1: #intento desorber\n",
        "                p = np.random.uniform(0,1)\n",
        "                Pdes = np.exp(-mu+Epriv/kb*T)              \n",
        "                if p < (Pdes):\n",
        "                    Efterma[x,y]=0\n",
        "                \n",
        " \n",
        "            else: #intento adsorber\n",
        "                p = np.random.uniform(0,1)\n",
        "                Pads = np.exp(mu-Epriv/kb*T)\n",
        "                if p < (Pads):\n",
        "                    Efterma[x,y] = 1\n",
        "                    \n",
        "        E_equi=Efterma        \n",
        "        N = np.count_nonzero(E_equi) #numero de particulas adsorbidas por cada i\n",
        "        recuM=N/M #cubrimiento en cada vez q hago montecarlo o sea cada i\n",
        "        \n",
        "        if recuM != 0: #si es distinto de cero junta el recuM en recuMS y suma un contador\n",
        "            recuMS =+ recuM\n",
        "            contador =+ 1\n",
        "        else: \n",
        "            contador = 1 #si no adsorbe nada pongo contador 1 para q no tire error, de todas maneras\n",
        "                         #recuMS va a ser cero todavía, entonces recuP va a ser cero\n",
        "    \n",
        "    \n",
        "    recuP=recuMS/contador #hago el promedio de todos los recubrimientos por cada montecarlo\n",
        "    return recuP,E_equi"
      ]
    },
    {
      "cell_type": "code",
      "execution_count": 4,
      "metadata": {
        "colab": {
          "base_uri": "https://localhost:8080/"
        },
        "id": "5PRyMldC9dQs",
        "outputId": "82523842-cabb-4077-9e15-37e29b208729"
      },
      "outputs": [
        {
          "output_type": "stream",
          "name": "stdout",
          "text": [
            "CPU times: user 1h 4min 50s, sys: 1min 34s, total: 1h 6min 25s\n",
            "Wall time: 1h 5min 8s\n"
          ]
        }
      ],
      "source": [
        "%%time\n",
        "L = 20 #tamaño de la malla LxL\n",
        "mui = -5\n",
        "muf = 10\n",
        "dmu = 1\n",
        "Terma = 1000\n",
        "Equi = 10000\n",
        "T=1\n",
        "kb=1\n",
        "Ei = np.zeros((L, L)) #estado incila vacío\n",
        "Potenciales=[]\n",
        "potenciales=np.linspace(-5, 10, 31)\n",
        "\n",
        "Recubrimientoatrac=[]\n",
        "epsi=-0.7\n",
        "for mu in potenciales:\n",
        "    Efterma=termalizar(Terma,Ei,L,mu,T,kb)\n",
        "    recuPa,E_equi=Equilibrio(Equi,Efterma,L,mu,T,kb)\n",
        "    Ei=E_equi\n",
        "    \n",
        "    \n",
        "    Potenciales.append(mu)\n",
        "    Recubrimientoatrac.append(recuPa)\n",
        "\n",
        "Ei = np.zeros((L, L))\n",
        "Recubrimientorepul=[]\n",
        "epsi=0.7    \n",
        "for mu in potenciales:\n",
        "    Efterma=termalizar(Terma,Ei,L,mu,T,kb)\n",
        "    recuPr,E_equi=Equilibrio(Equi,Efterma,L,mu,T,kb)\n",
        "    Ei=E_equi\n",
        "    \n",
        "    \n",
        "    \n",
        "    Recubrimientorepul.append(recuPr)  \n"
      ]
    },
    {
      "cell_type": "code",
      "source": [
        "plt.plot(Potenciales,Recubrimientorepul, label = 'Interacción repulsiva')\n",
        "plt.plot(Potenciales,Recubrimientoatrac, label = 'Interacción atractiva')\n",
        "plt.title('Isotermas de adsorción')\n",
        "plt.ylabel('Recubrimiento')\n",
        "plt.xlabel('Potencial químico')\n",
        "plt.legend()\n",
        "plt.show()"
      ],
      "metadata": {
        "colab": {
          "base_uri": "https://localhost:8080/",
          "height": 296
        },
        "id": "iNONYSB1OjdE",
        "outputId": "7cf32250-bad1-4be5-dcba-9c0060a4ba39"
      },
      "execution_count": 5,
      "outputs": [
        {
          "output_type": "display_data",
          "data": {
            "text/plain": [
              "<Figure size 432x288 with 1 Axes>"
            ],
            "image/png": "[encoded data removed]"
          },
          "metadata": {
            "needs_background": "light"
          }
        }
      ]
    },
    {
      "cell_type": "code",
      "source": [
        ""
      ],
      "metadata": {
        "id": "7aA9spgoPpwh"
      },
      "execution_count": 5,
      "outputs": []
    }
  ],
  "metadata": {
    "colab": {
      "collapsed_sections": [],
      "name": "con interaccion v4.ipynb",
      "provenance": []
    },
    "kernelspec": {
      "display_name": "Python 3 (ipykernel)",
      "language": "python",
      "name": "python3"
    },
    "language_info": {
      "codemirror_mode": {
        "name": "ipython",
        "version": 3
      },
      "file_extension": ".py",
      "mimetype": "text/x-python",
      "name": "python",
      "nbconvert_exporter": "python",
      "pygments_lexer": "ipython3",
      "version": "3.9.10"
    }
  },
  "nbformat": 4,
  "nbformat_minor": 0
}