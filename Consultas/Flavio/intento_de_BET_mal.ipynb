{
  "cells": [
    {
      "cell_type": "code",
      "execution_count": 1,
      "metadata": {
        "id": "fxTr0dnf8_LN"
      },
      "outputs": [],
      "source": [
        "import numpy as np\n",
        "from numpy.random import rand\n",
        "import matplotlib.pyplot as plt"
      ]
    },
    {
      "cell_type": "code",
      "execution_count": 2,
      "metadata": {
        "id": "h0bWgoD3m8Om"
      },
      "outputs": [],
      "source": [
        "def termalizar(Terma,Ei,L,mu,T,kb): #hago montecarlo Terma veces para llegar a un seudoequilibrio, esto deberia hacerlo antes de buscar el promedio del recubirmiento para cada potencial \n",
        "    for i in range (Terma):\n",
        "        for j in range (L*L): #montecarlo\n",
        "            L = Ei.shape[0] \n",
        "    \n",
        "            x = np.random.randint(0,L)\n",
        "            y = np.random.randint(0,L)\n",
        "            Pdes1 = np.exp(1-(mu)/kb*T)\n",
        "            Pdes2 = np.exp(0.7-(mu)/kb*T)\n",
        "            Pads1 = np.exp((mu)-1/kb*T)\n",
        "            Pads2 = np.exp((mu)-0.7/kb*T)\n",
        "            \n",
        "            if Ei[x,y] == 0:\n",
        "                p1 = np.random.rand(1) #para adosrber \n",
        "                #p2 = np.random.rand(1) #para adorber otra\n",
        "                if p1 < Pads1:\n",
        "                    Ei[x,y]=1\n",
        "                    \n",
        "            \n",
        "            elif Ei[x,y] == 1:\n",
        "                p1 = np.random.rand(1) #para desorber\n",
        "                p2 = np.random.rand(1) #para adsorber otra\n",
        "                if p1 < p2:\n",
        "                    if p1 < Pdes1:\n",
        "                        Ei[x,y]=0\n",
        "                else:\n",
        "                    if p2 < Pads2:\n",
        "                        Ei[x,y]=2\n",
        "              \n",
        "                \n",
        "                    \n",
        "            elif Ei[x,y] == 2:\n",
        "                p2 = np.random.rand(1)\n",
        "                if p2 < Pdes2:\n",
        "                    Ei[x,y]=1\n",
        "            \n",
        " \n",
        "    Efterma = Ei #Estado luego de termalizar\n",
        "\n",
        "    return Efterma"
      ]
    },
    {
      "cell_type": "code",
      "execution_count": 12,
      "metadata": {
        "id": "GiZsLBBx1mtL"
      },
      "outputs": [],
      "source": [
        "def Equilibrio(Equi,Efterma,L,mu,T,kb):\n",
        "    contador=0 #tiene q volver a cero cuando cambio de potencial\n",
        "    recuMTS=0 #tiene q volver a cero cuando cambio de pontencial\n",
        "    recuMT1=0\n",
        "    recuMT2=0\n",
        "    for i in range (Equi):\n",
        "        for j in range (L*L): #montecarlo\n",
        "            L = Efterma.shape[0]\n",
        "            M = L*L\n",
        "    \n",
        "            x = np.random.randint(0,L)\n",
        "            y = np.random.randint(0,L)\n",
        "            Pdes1 = np.exp(1-(mu)/kb*T)\n",
        "            Pdes2 = np.exp(0.7-(mu)/kb*T)\n",
        "            Pads1 = np.exp((mu)-1/kb*T)\n",
        "            Pads2 = np.exp((mu)-0.7/kb*T)\n",
        "            Efterma_aux=Efterma\n",
        "            if Efterma[x,y] == 0:\n",
        "                p1 = np.random.rand(1) #para adosrber \n",
        "                if p1 < Pads1:\n",
        "                    Efterma_aux[x,y]=1\n",
        "                    \n",
        "            \n",
        "            elif Efterma[x,y] == 1:\n",
        "                p1 = np.random.rand(1) #para desorber\n",
        "                p2 = np.random.rand(1) #para adsorber otra\n",
        "                if p1 < p2:\n",
        "                    if p1 < Pdes1:\n",
        "                        Efterma_aux[x,y]=0\n",
        "                else:\n",
        "                    if p2 < Pads2:\n",
        "                        Efterma_aux[x,y]=2\n",
        "              \n",
        "                \n",
        "                    \n",
        "            elif Efterma[x,y] == 2:\n",
        "                p2 = np.random.rand(1)\n",
        "                if p2 < Pdes2:\n",
        "                    Efterma_aux[x,y]=1\n",
        "                    \n",
        "       \n",
        "        E_equi=Efterma_aux        \n",
        "        N = np.count_nonzero(E_equi) #numero de particulas adsorbidas por cada i\n",
        "        N1 = np.count_nonzero(E_equi == 1) #huecos con 1 particula\n",
        "        N2 = np.count_nonzero(E_equi == 2) #huecos con 2 particulas \n",
        "        recuMT=N/M #cubrimiento en cada vez q hago montecarlo o sea cada i\n",
        "        recuM1=N1/M\n",
        "        recuM2=N2/M\n",
        "   \n",
        "        if recuMT != 0: #si es distinto de cero junta el recuM en recuMS y suma un contador\n",
        "            recuMTS =+ recuMT\n",
        "            recuMT1 =+ recuM1\n",
        "            recuMT2 =+ recuM2\n",
        "            contador =+ 1\n",
        "        else: \n",
        "            contador = 1 #si no adsorbe nada pongo contador 1 para q no tire error, de todas maneras\n",
        "                         #recuMS va a ser cero todavía, entonces recuP va a ser cero\n",
        "        \n",
        "    recuPT=recuMTS/contador #hago el promedio de todos los recubrimientos por cada montecarlo\n",
        "    recuPN1=recuMT1/contador\n",
        "    recuPN2=recuMT2/contador\n",
        "    return recuPT,recuPN1,recuPN2,E_equi"
      ]
    },
    {
      "cell_type": "code",
      "execution_count": 16,
      "metadata": {
        "colab": {
          "base_uri": "https://localhost:8080/"
        },
        "id": "5PRyMldC9dQs",
        "outputId": "fbb37f5a-8372-4d1f-b6e6-29e0fae4135d"
      },
      "outputs": [
        {
          "output_type": "stream",
          "name": "stdout",
          "text": [
            "CPU times: user 4min 46s, sys: 21.2 s, total: 5min 8s\n",
            "Wall time: 4min 45s\n"
          ]
        }
      ],
      "source": [
        "%%time\n",
        "L = 10 #tamaño de la malla LxL\n",
        "mui = -5\n",
        "muf = 10\n",
        "dmu = 1\n",
        "Terma = 100\n",
        "Equi = 10000\n",
        "T=1\n",
        "kb=1\n",
        "Ei = np.random.randint(0,1,size=[L,L]) #estado incila vacío\n",
        "Potenciales=[]\n",
        "RecubrimientoT=[]\n",
        "Recubrimiento1=[]\n",
        "Recubrimiento2=[]\n",
        "for mu in range(-5,10,1):\n",
        "    Efterma=termalizar(Terma,Ei,L,mu,T,kb)\n",
        "    recuPT,recuPN1,recuPN2,E_equi=Equilibrio(Equi,Efterma,L,mu,T,kb)\n",
        "    Ei=E_equi\n",
        "    \n",
        "    \n",
        "    Potenciales.append(mu)\n",
        "    RecubrimientoT.append(recuPT)\n",
        "    Recubrimiento1.append(recuPN1)\n",
        "    Recubrimiento2.append(recuPN2)\n",
        "    \n"
      ]
    },
    {
      "cell_type": "code",
      "execution_count": 17,
      "metadata": {
        "colab": {
          "base_uri": "https://localhost:8080/",
          "height": 296
        },
        "id": "aAip7Ch3OdCM",
        "outputId": "0da80925-4d07-46f6-e0e6-a822fe378ace"
      },
      "outputs": [
        {
          "output_type": "display_data",
          "data": {
            "text/plain": [
              "<Figure size 432x288 with 1 Axes>"
            ],
            "image/png": "[encoded data removed]"
          },
          "metadata": {
            "needs_background": "light"
          }
        }
      ],
      "source": [
        "plt.plot(Potenciales,RecubrimientoT, label = 'Total')\n",
        "plt.plot(Potenciales,Recubrimiento1, label = '1 capa')\n",
        "plt.plot(Potenciales,Recubrimiento2, label = '2 capas')\n",
        "plt.title('Isoterma de adsorción')\n",
        "plt.ylabel('Recubrimiento')\n",
        "plt.xlabel('Potencial químico')\n",
        "plt.legend()\n",
        "plt.show()\n",
        " "
      ]
    },
    {
      "cell_type": "code",
      "execution_count": 5,
      "metadata": {
        "id": "WvIuiB_lOdEJ"
      },
      "outputs": [],
      "source": [
        ""
      ]
    }
  ],
  "metadata": {
    "colab": {
      "collapsed_sections": [],
      "name": "intento de BET mal.ipynb",
      "provenance": []
    },
    "kernelspec": {
      "display_name": "Python 3 (ipykernel)",
      "language": "python",
      "name": "python3"
    },
    "language_info": {
      "codemirror_mode": {
        "name": "ipython",
        "version": 3
      },
      "file_extension": ".py",
      "mimetype": "text/x-python",
      "name": "python",
      "nbconvert_exporter": "python",
      "pygments_lexer": "ipython3",
      "version": "3.9.10"
    }
  },
  "nbformat": 4,
  "nbformat_minor": 0
}