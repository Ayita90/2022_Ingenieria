{
 "cells": [
  {
   "cell_type": "markdown",
   "id": "21168d35",
   "metadata": {},
   "source": [
    "\n",
    "Ejercicio 4"
   ]
  },
  {
   "cell_type": "code",
   "execution_count": 33,
   "id": "530df9db",
   "metadata": {
    "scrolled": true
   },
   "outputs": [
    {
     "name": "stdout",
     "output_type": "stream",
     "text": [
      "[[ 1 -3 -2]\n",
      " [ 2 -4 -3]\n",
      " [-3  6  8]]\n",
      "[ 6  8 -5]\n"
     ]
    },
    {
     "data": {
      "text/plain": [
       "array([ 1., -3.,  2.])"
      ]
     },
     "execution_count": 33,
     "metadata": {},
     "output_type": "execute_result"
    }
   ],
   "source": [
    "import numpy as np \n",
    "\n",
    "A = np.array([[1, -3, -2], [2,-4,-3], [-3,6,8]])\n",
    "b = np.array([6,8,-5])\n",
    "\n",
    "print(A)\n",
    "print(b)\n",
    "\n",
    "x = np.linalg.solve(A, b.T)\n",
    "x"
   ]
  }
 ],
 "metadata": {
  "kernelspec": {
   "display_name": "Python 3 (ipykernel)",
   "language": "python",
   "name": "python3"
  },
  "language_info": {
   "codemirror_mode": {
    "name": "ipython",
    "version": 3
   },
   "file_extension": ".py",
   "mimetype": "text/x-python",
   "name": "python",
   "nbconvert_exporter": "python",
   "pygments_lexer": "ipython3",
   "version": "3.8.12"
  }
 },
 "nbformat": 4,
 "nbformat_minor": 5
}
