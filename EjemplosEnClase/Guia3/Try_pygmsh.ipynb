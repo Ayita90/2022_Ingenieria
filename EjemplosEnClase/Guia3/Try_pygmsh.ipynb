{
 "cells": [
  {
   "cell_type": "code",
   "execution_count": 1,
   "id": "c40598dc",
   "metadata": {},
   "outputs": [],
   "source": [
    "import gmsh\n",
    "import numpy as np"
   ]
  },
  {
   "cell_type": "markdown",
   "id": "cf106a23",
   "metadata": {},
   "source": [
    "el metodo initialize 'abre' el programa."
   ]
  },
  {
   "cell_type": "code",
   "execution_count": 2,
   "id": "f169e08e",
   "metadata": {},
   "outputs": [
    {
     "name": "stdout",
     "output_type": "stream",
     "text": [
      "Info    : Increasing process stack size (8192 kB < 16 MB)\n"
     ]
    }
   ],
   "source": [
    "gmsh.initialize()"
   ]
  },
  {
   "cell_type": "markdown",
   "id": "cba21dd0",
   "metadata": {},
   "source": [
    "'armamos' el modelo que queremos modificar:"
   ]
  },
  {
   "cell_type": "code",
   "execution_count": 3,
   "id": "533846ac",
   "metadata": {},
   "outputs": [],
   "source": [
    "gmsh.model.add('test2')"
   ]
  },
  {
   "cell_type": "code",
   "execution_count": 4,
   "id": "e91582d7",
   "metadata": {},
   "outputs": [],
   "source": [
    "L = 10\n",
    "lc = L"
   ]
  },
  {
   "cell_type": "markdown",
   "id": "1ec30a18",
   "metadata": {},
   "source": [
    "Definimos las coordenadas de los puntos"
   ]
  },
  {
   "cell_type": "code",
   "execution_count": 5,
   "id": "cf0aa2bd",
   "metadata": {},
   "outputs": [],
   "source": [
    "p1 = gmsh.model.geo.addPoint(0, 0, 0, lc) #/5)\n",
    "p2 = gmsh.model.geo.addPoint(L, 0, 0, lc) #*2) \n",
    "p3 = gmsh.model.geo.addPoint(L, L, 0, lc) #/2) \n",
    "p4 = gmsh.model.geo.addPoint(0, L, 0, lc) #/5) "
   ]
  },
  {
   "cell_type": "markdown",
   "id": "d575bc9e",
   "metadata": {},
   "source": [
    "Luego definimos las lineas"
   ]
  },
  {
   "cell_type": "code",
   "execution_count": 6,
   "id": "380b84fd",
   "metadata": {},
   "outputs": [],
   "source": [
    "l1 = gmsh.model.geo.addLine(p1, p2)\n",
    "l2 = gmsh.model.geo.addLine(p2, p3)\n",
    "l3 = gmsh.model.geo.addLine(p3, p4)\n",
    "l4 = gmsh.model.geo.addLine(p4, p1)"
   ]
  },
  {
   "cell_type": "markdown",
   "id": "7712cc9a",
   "metadata": {},
   "source": [
    "Las curvas nos van a servir para definir los bordes de nuestro modelo."
   ]
  },
  {
   "cell_type": "code",
   "execution_count": 7,
   "id": "eeb86402",
   "metadata": {},
   "outputs": [],
   "source": [
    "C1 = gmsh.model.geo.addCurveLoop([l1, l2, l3, l4])"
   ]
  },
  {
   "cell_type": "markdown",
   "id": "27c99db7",
   "metadata": {},
   "source": [
    "Y las superficies:"
   ]
  },
  {
   "cell_type": "code",
   "execution_count": 8,
   "id": "0919aa4c",
   "metadata": {},
   "outputs": [],
   "source": [
    "S1 = gmsh.model.geo.addPlaneSurface([C1])"
   ]
  },
  {
   "cell_type": "markdown",
   "id": "d081e3d7",
   "metadata": {},
   "source": [
    "le avisamos que ya estan todos los elementos geométricos:"
   ]
  },
  {
   "cell_type": "code",
   "execution_count": 9,
   "id": "c29de2f9",
   "metadata": {},
   "outputs": [],
   "source": [
    "gmsh.model.geo.synchronize()"
   ]
  },
  {
   "cell_type": "markdown",
   "id": "5798b9cd",
   "metadata": {},
   "source": [
    "Ahora definimos algo que nos va a servir para las condiciones de contorno."
   ]
  },
  {
   "cell_type": "markdown",
   "id": "5919d286",
   "metadata": {},
   "source": [
    "Y definimos `Grupos Físicos` para definir bordes, etc"
   ]
  },
  {
   "cell_type": "code",
   "execution_count": 10,
   "id": "c20d3050",
   "metadata": {},
   "outputs": [],
   "source": [
    "Empotrado = gmsh.model.addPhysicalGroup(1, [l4])\n",
    "gmsh.model.setPhysicalName(1,Empotrado,'Empotrado')"
   ]
  },
  {
   "cell_type": "code",
   "execution_count": 11,
   "id": "a94c8d2f",
   "metadata": {},
   "outputs": [],
   "source": [
    "Traccionado = gmsh.model.addPhysicalGroup(1, [l2])\n",
    "gmsh.model.setPhysicalName(1,Traccionado,'Traccionado')"
   ]
  },
  {
   "cell_type": "code",
   "execution_count": 12,
   "id": "2db0157c",
   "metadata": {},
   "outputs": [],
   "source": [
    "Superficie = gmsh.model.addPhysicalGroup(2,[S1])\n",
    "gmsh.model.setPhysicalName(2,Superficie, 'Superficie')"
   ]
  },
  {
   "cell_type": "markdown",
   "id": "c47b2fba",
   "metadata": {},
   "source": [
    "Finalemente generamos el mallado"
   ]
  },
  {
   "cell_type": "code",
   "execution_count": 13,
   "id": "d3be2429",
   "metadata": {},
   "outputs": [
    {
     "name": "stdout",
     "output_type": "stream",
     "text": [
      "Info    : Meshing 1D...\n",
      "Info    : [  0%] Meshing curve 1 (Line)\n",
      "Info    : [ 30%] Meshing curve 2 (Line)\n",
      "Info    : [ 50%] Meshing curve 3 (Line)\n",
      "Info    : [ 80%] Meshing curve 4 (Line)\n",
      "Info    : Done meshing 1D (Wall 0.000193733s, CPU 0.000275s)\n",
      "Info    : Meshing 2D...\n",
      "Info    : Meshing surface 1 (Plane, Frontal-Delaunay)\n",
      "Info    : Done meshing 2D (Wall 0.000351094s, CPU 0.000248s)\n",
      "Info    : 5 nodes 12 elements\n"
     ]
    }
   ],
   "source": [
    "gmsh.model.mesh.generate(2)"
   ]
  },
  {
   "cell_type": "markdown",
   "id": "b236b0f7",
   "metadata": {},
   "source": [
    "# El objeto mesh"
   ]
  },
  {
   "cell_type": "markdown",
   "id": "837948a2",
   "metadata": {},
   "source": [
    "El mallado es un objeto del cual podemos recuperar la información necesaria para interactuar con nuestro motor de elementos finitos. Por ejemplo para la informacion de los nodos:"
   ]
  },
  {
   "cell_type": "code",
   "execution_count": 14,
   "id": "80376694",
   "metadata": {},
   "outputs": [],
   "source": [
    "NodeInfo = gmsh.model.mesh.get_nodes()"
   ]
  },
  {
   "cell_type": "code",
   "execution_count": 15,
   "id": "3d19d446",
   "metadata": {},
   "outputs": [
    {
     "data": {
      "text/plain": [
       "(15,)"
      ]
     },
     "execution_count": 15,
     "metadata": {},
     "output_type": "execute_result"
    }
   ],
   "source": [
    "NodeInfo[1].shape"
   ]
  },
  {
   "cell_type": "code",
   "execution_count": 16,
   "id": "82ea47fa",
   "metadata": {},
   "outputs": [
    {
     "data": {
      "text/plain": [
       "(array([1, 2, 3, 4, 5], dtype=uint64),\n",
       " array([ 0.,  0.,  0., 10.,  0.,  0., 10., 10.,  0.,  0., 10.,  0.,  5.,\n",
       "         5.,  0.]),\n",
       " array([], dtype=float64))"
      ]
     },
     "execution_count": 16,
     "metadata": {},
     "output_type": "execute_result"
    }
   ],
   "source": [
    "NodeInfo"
   ]
  },
  {
   "cell_type": "markdown",
   "id": "4097f921",
   "metadata": {},
   "source": [
    "esta variable node info guarda:\n",
    "- los numeros de nodo\n",
    "- la matriz de nodo"
   ]
  },
  {
   "cell_type": "code",
   "execution_count": 17,
   "id": "628e4e80",
   "metadata": {},
   "outputs": [],
   "source": [
    "NumeroNodos = NodeInfo[0].shape[0]"
   ]
  },
  {
   "cell_type": "code",
   "execution_count": 18,
   "id": "661f3966",
   "metadata": {},
   "outputs": [
    {
     "data": {
      "text/plain": [
       "5"
      ]
     },
     "execution_count": 18,
     "metadata": {},
     "output_type": "execute_result"
    }
   ],
   "source": [
    "NumeroNodos"
   ]
  },
  {
   "cell_type": "markdown",
   "id": "61ef1540",
   "metadata": {},
   "source": [
    "es la cantidad de nodos del modelo."
   ]
  },
  {
   "cell_type": "markdown",
   "id": "9ed64f96",
   "metadata": {},
   "source": [
    "La matriz de nodos es dada en lista, nos conviene pasarla a matriz para tener lo que venimos trabajando:"
   ]
  },
  {
   "cell_type": "code",
   "execution_count": 19,
   "id": "8398b82e",
   "metadata": {},
   "outputs": [],
   "source": [
    "MN = NodeInfo[1].reshape(NumeroNodos , 3)"
   ]
  },
  {
   "cell_type": "code",
   "execution_count": 20,
   "id": "4e2c9a65",
   "metadata": {},
   "outputs": [
    {
     "data": {
      "text/plain": [
       "array([[ 0.,  0.,  0.],\n",
       "       [10.,  0.,  0.],\n",
       "       [10., 10.,  0.],\n",
       "       [ 0., 10.,  0.],\n",
       "       [ 5.,  5.,  0.]])"
      ]
     },
     "execution_count": 20,
     "metadata": {},
     "output_type": "execute_result"
    }
   ],
   "source": [
    "MN"
   ]
  },
  {
   "cell_type": "markdown",
   "id": "0c8d76d1",
   "metadata": {},
   "source": [
    "## Elementos"
   ]
  },
  {
   "cell_type": "code",
   "execution_count": 21,
   "id": "db6faab5",
   "metadata": {},
   "outputs": [],
   "source": [
    "ElementInfo = gmsh.model.mesh.get_elements()"
   ]
  },
  {
   "cell_type": "markdown",
   "id": "8976b608",
   "metadata": {},
   "source": [
    "Este Objeto tiene mucha información:"
   ]
  },
  {
   "cell_type": "code",
   "execution_count": 22,
   "id": "388ca78e",
   "metadata": {},
   "outputs": [
    {
     "data": {
      "text/plain": [
       "(array([ 1,  2, 15], dtype=int32),\n",
       " [array([11,  1, 12,  2], dtype=uint64),\n",
       "  array([3, 4, 5, 6], dtype=uint64),\n",
       "  array([ 7,  8,  9, 10], dtype=uint64)],\n",
       " [array([1, 2, 2, 3, 3, 4, 4, 1], dtype=uint64),\n",
       "  array([1, 2, 5, 4, 1, 5, 2, 3, 5, 3, 4, 5], dtype=uint64),\n",
       "  array([1, 2, 3, 4], dtype=uint64)])"
      ]
     },
     "execution_count": 22,
     "metadata": {},
     "output_type": "execute_result"
    }
   ],
   "source": [
    "ElementInfo"
   ]
  },
  {
   "cell_type": "markdown",
   "id": "9f75ccc5",
   "metadata": {},
   "source": [
    "- los tipos de elementos"
   ]
  },
  {
   "cell_type": "code",
   "execution_count": 23,
   "id": "ddaa4fd9",
   "metadata": {},
   "outputs": [
    {
     "data": {
      "text/plain": [
       "array([ 1,  2, 15], dtype=int32)"
      ]
     },
     "execution_count": 23,
     "metadata": {},
     "output_type": "execute_result"
    }
   ],
   "source": [
    "ElementInfo[0]"
   ]
  },
  {
   "cell_type": "markdown",
   "id": "391e89b6",
   "metadata": {},
   "source": [
    "Las etiquetas de los triángulos"
   ]
  },
  {
   "cell_type": "code",
   "execution_count": 24,
   "id": "f947f513",
   "metadata": {},
   "outputs": [
    {
     "data": {
      "text/plain": [
       "array([3, 4, 5, 6], dtype=uint64)"
      ]
     },
     "execution_count": 24,
     "metadata": {},
     "output_type": "execute_result"
    }
   ],
   "source": [
    "ElementInfo[1][1]"
   ]
  },
  {
   "cell_type": "code",
   "execution_count": 25,
   "id": "6cd24d43",
   "metadata": {},
   "outputs": [
    {
     "data": {
      "text/plain": [
       "(12,)"
      ]
     },
     "execution_count": 25,
     "metadata": {},
     "output_type": "execute_result"
    }
   ],
   "source": [
    "ElementInfo[2][1].shape"
   ]
  },
  {
   "cell_type": "code",
   "execution_count": 26,
   "id": "ec3abc15",
   "metadata": {},
   "outputs": [],
   "source": [
    "ETYPES = ElementInfo[0]"
   ]
  },
  {
   "cell_type": "markdown",
   "id": "193902d6",
   "metadata": {},
   "source": [
    "Podemos ser un poco más precabios y tomar solo los triángulos, que son los que nos interesan para la guía "
   ]
  },
  {
   "cell_type": "code",
   "execution_count": 27,
   "id": "412ea0c4",
   "metadata": {},
   "outputs": [],
   "source": [
    "ETAGS, ELEMENTS = gmsh.model.mesh.get_elements_by_type(2)"
   ]
  },
  {
   "cell_type": "code",
   "execution_count": 28,
   "id": "35fe6a41",
   "metadata": {},
   "outputs": [
    {
     "data": {
      "text/plain": [
       "array([3, 4, 5, 6], dtype=uint64)"
      ]
     },
     "execution_count": 28,
     "metadata": {},
     "output_type": "execute_result"
    }
   ],
   "source": [
    "ETAGS"
   ]
  },
  {
   "cell_type": "code",
   "execution_count": 29,
   "id": "c79e6ae2",
   "metadata": {},
   "outputs": [
    {
     "data": {
      "text/plain": [
       "array([1, 2, 5, 4, 1, 5, 2, 3, 5, 3, 4, 5], dtype=uint64)"
      ]
     },
     "execution_count": 29,
     "metadata": {},
     "output_type": "execute_result"
    }
   ],
   "source": [
    "ELEMENTS"
   ]
  },
  {
   "cell_type": "markdown",
   "id": "47416dc8",
   "metadata": {},
   "source": [
    "la matriz de conectividad también hay que reformatear para tener lo que estamos acostumbrados."
   ]
  },
  {
   "cell_type": "code",
   "execution_count": 30,
   "id": "960e056c",
   "metadata": {},
   "outputs": [],
   "source": [
    "MC = ELEMENTS.reshape([ETAGS.shape[0],3])"
   ]
  },
  {
   "cell_type": "code",
   "execution_count": 31,
   "id": "f13b0f1f",
   "metadata": {},
   "outputs": [
    {
     "data": {
      "text/plain": [
       "array([[1, 2, 5],\n",
       "       [4, 1, 5],\n",
       "       [2, 3, 5],\n",
       "       [3, 4, 5]], dtype=uint64)"
      ]
     },
     "execution_count": 31,
     "metadata": {},
     "output_type": "execute_result"
    }
   ],
   "source": [
    "MC"
   ]
  },
  {
   "cell_type": "markdown",
   "id": "f262631f",
   "metadata": {},
   "source": [
    "# Condiciones de contorno"
   ]
  },
  {
   "cell_type": "markdown",
   "id": "488165b8",
   "metadata": {},
   "source": [
    "Con las definiciones de los Physical Groups, podemos sacar los índices de los nodos que estan empotrados o traccionados. Necesitamos definir una 'entidad' para los elements Traccionados:"
   ]
  },
  {
   "cell_type": "code",
   "execution_count": 32,
   "id": "ae8eb52a",
   "metadata": {},
   "outputs": [],
   "source": [
    "entityTraccionada = gmsh.model.getEntitiesForPhysicalGroup(1, Traccionado)"
   ]
  },
  {
   "cell_type": "code",
   "execution_count": 33,
   "id": "54228684",
   "metadata": {},
   "outputs": [
    {
     "name": "stdout",
     "output_type": "stream",
     "text": [
      "2\n"
     ]
    }
   ],
   "source": [
    "print(entityTraccionada[0])"
   ]
  },
  {
   "cell_type": "markdown",
   "id": "ce033ec6",
   "metadata": {},
   "source": [
    "con esa entidad, podemos definir los elementos tipo línea:"
   ]
  },
  {
   "cell_type": "code",
   "execution_count": 34,
   "id": "9b7cfe9d",
   "metadata": {},
   "outputs": [],
   "source": [
    "Tgroup, Ttraccionada, Ltraccionada = gmsh.model.mesh.getElements(1, entityTraccionada[0])"
   ]
  },
  {
   "cell_type": "code",
   "execution_count": 35,
   "id": "4bdbe84d",
   "metadata": {},
   "outputs": [
    {
     "data": {
      "text/plain": [
       "[array([1], dtype=uint64)]"
      ]
     },
     "execution_count": 35,
     "metadata": {},
     "output_type": "execute_result"
    }
   ],
   "source": [
    "Ttraccionada"
   ]
  },
  {
   "cell_type": "code",
   "execution_count": 36,
   "id": "92ed35da",
   "metadata": {},
   "outputs": [],
   "source": [
    "Ltraccionada = Ltraccionada[0].reshape(Ttraccionada[0].shape[0],2)"
   ]
  },
  {
   "cell_type": "code",
   "execution_count": 37,
   "id": "a5b36d51",
   "metadata": {},
   "outputs": [
    {
     "data": {
      "text/plain": [
       "array([[2, 3]], dtype=uint64)"
      ]
     },
     "execution_count": 37,
     "metadata": {},
     "output_type": "execute_result"
    }
   ],
   "source": [
    "Ltraccionada "
   ]
  },
  {
   "cell_type": "markdown",
   "id": "d77cda0f",
   "metadata": {},
   "source": [
    "Con los elementos líneas traccionadas podemos calcular las longitudes y distribuir la fuerza externa. "
   ]
  },
  {
   "cell_type": "code",
   "execution_count": 38,
   "id": "f1832e81",
   "metadata": {},
   "outputs": [],
   "source": [
    "Longitudes = np.abs( MN[Ltraccionada[:,0]-1,1] - MN[Ltraccionada[:,1]-1,1] )"
   ]
  },
  {
   "cell_type": "markdown",
   "id": "c928727c",
   "metadata": {},
   "source": [
    "Ahora puedo calcular las fuerzas:"
   ]
  },
  {
   "cell_type": "code",
   "execution_count": 39,
   "id": "77e70f9c",
   "metadata": {},
   "outputs": [],
   "source": [
    "Fuerzas = np.zeros((2*NumeroNodos,1))\n",
    "espesor = 1\n",
    "tension = 1000 #Pa\n",
    "\n",
    "for l, linea in enumerate(Ltraccionada):\n",
    "    Flocal = np.array([[1],[1]])*tension*espesor*Longitudes[l]\n",
    "    n1 = linea[0]\n",
    "    n2 = linea[1]\n",
    "    #print(Flocal)\n",
    "    Fuerzas[ np.array([2*(n1-1), 2*(n2-1)], dtype=int)] += Flocal\n",
    "    "
   ]
  },
  {
   "cell_type": "markdown",
   "id": "15f78981",
   "metadata": {},
   "source": [
    "# Empotrados"
   ]
  },
  {
   "cell_type": "markdown",
   "id": "a6aaf552",
   "metadata": {},
   "source": [
    "Para definir los nodos empotrados necesito solamente los índices de los nodos en dicho physical group"
   ]
  },
  {
   "cell_type": "code",
   "execution_count": 40,
   "id": "baa7d480",
   "metadata": {},
   "outputs": [],
   "source": [
    "NodosEmpotrados = gmsh.model.mesh.get_nodes_for_physical_group(1,Empotrado)"
   ]
  },
  {
   "cell_type": "code",
   "execution_count": 41,
   "id": "11bebcdc",
   "metadata": {},
   "outputs": [
    {
     "data": {
      "text/plain": [
       "array([1, 4], dtype=uint64)"
      ]
     },
     "execution_count": 41,
     "metadata": {},
     "output_type": "execute_result"
    }
   ],
   "source": [
    "NodosEmpotrados[0]"
   ]
  },
  {
   "cell_type": "markdown",
   "id": "d6a71142",
   "metadata": {},
   "source": [
    "Con eso ya puedo calcular los valores de los índices de los nodos que resultarán empotrados."
   ]
  },
  {
   "cell_type": "code",
   "execution_count": 42,
   "id": "df4dfb77",
   "metadata": {},
   "outputs": [],
   "source": [
    "s = []\n",
    "r = np.arange(2*NumeroNodos)\n",
    "for n, nodo in enumerate(NodosEmpotrados[0]):\n",
    "    s.append(\n",
    "        np.linspace(2*nodo, 2*nodo +1, 2)\n",
    "    )\n",
    "s = np.array(s).astype(int)"
   ]
  },
  {
   "cell_type": "markdown",
   "id": "72a62228",
   "metadata": {},
   "source": [
    "luego saco de r todo lo que puse en s:"
   ]
  },
  {
   "cell_type": "code",
   "execution_count": 43,
   "id": "a3e17c57",
   "metadata": {},
   "outputs": [],
   "source": [
    "r = np.delete( r, s )"
   ]
  },
  {
   "cell_type": "code",
   "execution_count": 44,
   "id": "1c90c28a",
   "metadata": {},
   "outputs": [
    {
     "data": {
      "text/plain": [
       "array([[    0.],\n",
       "       [    0.],\n",
       "       [10000.],\n",
       "       [    0.],\n",
       "       [    0.],\n",
       "       [    0.]])"
      ]
     },
     "execution_count": 44,
     "metadata": {},
     "output_type": "execute_result"
    }
   ],
   "source": [
    "Fuerzas[r]"
   ]
  },
  {
   "cell_type": "markdown",
   "id": "8facdd36",
   "metadata": {},
   "source": [
    "# Nos divertimos un rato"
   ]
  },
  {
   "cell_type": "code",
   "execution_count": 45,
   "id": "425df70e",
   "metadata": {},
   "outputs": [],
   "source": [
    "import matplotlib.pyplot as plt\n",
    "from matplotlib import quiver"
   ]
  },
  {
   "cell_type": "code",
   "execution_count": 46,
   "id": "9e01656d",
   "metadata": {},
   "outputs": [],
   "source": [
    "plt.style.use('default')\n",
    "plt.rc('figure',figsize=(15,10))"
   ]
  },
  {
   "cell_type": "code",
   "execution_count": 47,
   "id": "4d3fcf3a",
   "metadata": {},
   "outputs": [],
   "source": [
    "Fx = Fuerzas[2*np.arange(NumeroNodos)]\n",
    "Fy = Fuerzas[2*np.arange(NumeroNodos)+1]"
   ]
  },
  {
   "cell_type": "code",
   "execution_count": 48,
   "id": "7d9af90e",
   "metadata": {},
   "outputs": [
    {
     "data": {
      "text/plain": [
       "(-1.0, 20.0)"
      ]
     },
     "execution_count": 48,
     "metadata": {},
     "output_type": "execute_result"
    },
    {
     "data": {
      "image/png": "[encoded data removed]",
      "text/plain": [
       "<Figure size 1500x1000 with 1 Axes>"
      ]
     },
     "metadata": {},
     "output_type": "display_data"
    }
   ],
   "source": [
    "#plt.plot(MN[:,0],MN[:,1],'ok')\n",
    "\n",
    "#plt.plot(MNE[:,0], MNE[:,1], label='Empotrados', lw = 5)\n",
    "#plt.plot(MNT[:,0], MNT[:,1], label='Traccionados', lw = 5)\n",
    "fig = plt.figure()\n",
    "ax = fig.add_axes([0.1, 0.2, 0.5, 0.6])\n",
    "ax.triplot(MN[:,0],MN[:,1],MC-MC.min(), )\n",
    "#ax.plot(MN[:,0],MN[:,1],'o')\n",
    "ax.quiver( MN[:,0], MN[:,1], Fx, Fy, linewidth=5, units='width', scale=1e5)\n",
    "ax.set_xlim(-1, L+(Fx/1e3).max())"
   ]
  },
  {
   "cell_type": "markdown",
   "id": "2a3cdd99",
   "metadata": {},
   "source": [
    "# Agregar Resulatados"
   ]
  },
  {
   "cell_type": "markdown",
   "id": "812f836c",
   "metadata": {},
   "source": [
    "Inventemos por ahora un resultado vectorial"
   ]
  },
  {
   "cell_type": "code",
   "execution_count": 49,
   "id": "560cd463",
   "metadata": {},
   "outputs": [],
   "source": [
    "DESP = np.hstack((MN[:,0].reshape(-1,1)*0.1, MN[:,1].reshape(-1,1)*0, MN[:,2].reshape(-1,1)*0))"
   ]
  },
  {
   "cell_type": "code",
   "execution_count": 50,
   "id": "a28a1843",
   "metadata": {},
   "outputs": [
    {
     "data": {
      "text/plain": [
       "[<matplotlib.lines.Line2D at 0x7f1348ebf820>]"
      ]
     },
     "execution_count": 50,
     "metadata": {},
     "output_type": "execute_result"
    },
    {
     "data": {
      "image/png": "[encoded data removed]",
      "text/plain": [
       "<Figure size 1500x1000 with 1 Axes>"
      ]
     },
     "metadata": {},
     "output_type": "display_data"
    }
   ],
   "source": [
    "plt.plot(MN[:,0], DESP[:,0],'o')"
   ]
  },
  {
   "cell_type": "markdown",
   "id": "c56e580d",
   "metadata": {},
   "source": [
    "Devemos iniciar una visualizacion:"
   ]
  },
  {
   "cell_type": "code",
   "execution_count": 51,
   "id": "324dcb8a",
   "metadata": {},
   "outputs": [],
   "source": [
    "desps = gmsh.view.add(\"desp\")"
   ]
  },
  {
   "cell_type": "markdown",
   "id": "99c2e242",
   "metadata": {},
   "source": [
    "devemos guardar esos datos en la visualizacion:"
   ]
  },
  {
   "cell_type": "code",
   "execution_count": 52,
   "id": "57ec0fff",
   "metadata": {},
   "outputs": [],
   "source": [
    "Desps = gmsh.view.addModelData(desps, 0, 'test2', 'NodeData', NodeInfo[0], DESP, numComponents=3)"
   ]
  },
  {
   "cell_type": "markdown",
   "id": "0955992b",
   "metadata": {},
   "source": [
    "Guardo las fuerzas externas"
   ]
  },
  {
   "cell_type": "code",
   "execution_count": 53,
   "id": "77839c17",
   "metadata": {},
   "outputs": [],
   "source": [
    "Fxyz = np.hstack((Fuerzas.reshape(NumeroNodos,2), np.zeros((NumeroNodos,1))))"
   ]
  },
  {
   "cell_type": "code",
   "execution_count": 54,
   "id": "5d458cc5",
   "metadata": {},
   "outputs": [],
   "source": [
    "fx = gmsh.view.add('fuerzas')\n",
    "Fz = gmsh.view.addModelData(fx, 0, 'test2','NodeData',NodeInfo[0], Fxyz, numComponents=3)"
   ]
  },
  {
   "cell_type": "markdown",
   "id": "c0cf33fd",
   "metadata": {},
   "source": [
    "Ahora le agrego un view para tensiones"
   ]
  },
  {
   "cell_type": "code",
   "execution_count": 55,
   "id": "978cebb6",
   "metadata": {},
   "outputs": [],
   "source": [
    "v_t = gmsh.view.add(\"tens\")"
   ]
  },
  {
   "cell_type": "code",
   "execution_count": 56,
   "id": "f8fdc3a5",
   "metadata": {},
   "outputs": [],
   "source": [
    "T = MC.mean(axis=1).reshape(-1,1)"
   ]
  },
  {
   "cell_type": "code",
   "execution_count": 57,
   "id": "cd13efa5",
   "metadata": {},
   "outputs": [],
   "source": [
    "Tensiones = gmsh.view.addModelData(v_t, 0, 'test2', 'ElementData', ETAGS, T , numComponents=1 )"
   ]
  },
  {
   "cell_type": "markdown",
   "id": "94f7a40a",
   "metadata": {},
   "source": [
    "vamos a jugar tambien con estos datos escalares, dependientes del tiempo:"
   ]
  },
  {
   "cell_type": "code",
   "execution_count": 58,
   "id": "7c0fe990",
   "metadata": {},
   "outputs": [],
   "source": [
    "Temps = gmsh.view.add(\"Temperaturas\")"
   ]
  },
  {
   "cell_type": "code",
   "execution_count": 59,
   "id": "63efbb76",
   "metadata": {},
   "outputs": [],
   "source": [
    "for i in range(100):\n",
    "    gmsh.view.addModelData(Temps,i, 'test2','NodeData',NodeInfo[0],MN[:,0].reshape(-1,1)*i,numComponents=1)\n",
    "    "
   ]
  },
  {
   "cell_type": "markdown",
   "id": "62b6a3f9",
   "metadata": {},
   "source": [
    "Escribamos estos resultados con el mesh para ver mas tarde. Por razones de legibilidad humana, queremos escribir el mallado en versión 2 y no en version 4 (el default)"
   ]
  },
  {
   "cell_type": "code",
   "execution_count": 60,
   "id": "2f30ca94",
   "metadata": {},
   "outputs": [
    {
     "name": "stdout",
     "output_type": "stream",
     "text": [
      "Info    : Writing 'TestMeshView_IN.msh'...\n",
      "Info    : Done writing 'TestMeshView_IN.msh'\n",
      "Info    : Writing 'TestMeshView_OUT.msh'...\n",
      "Info    : Done writing 'TestMeshView_OUT.msh'\n"
     ]
    }
   ],
   "source": [
    "gmsh.option.setNumber(\"Mesh.MshFileVersion\", 2.2)\n",
    "gmsh.write('TestMeshView_IN.msh')\n",
    "gmsh.view.write(1,\"TestMeshView_OUT.msh\",append=True)"
   ]
  },
  {
   "cell_type": "markdown",
   "id": "67249d89",
   "metadata": {},
   "source": [
    "visualicemos el resultado:"
   ]
  },
  {
   "cell_type": "code",
   "execution_count": 61,
   "id": "37f3dce5",
   "metadata": {},
   "outputs": [
    {
     "name": "stdout",
     "output_type": "stream",
     "text": [
      "-------------------------------------------------------\n",
      "Version       : 4.8.4\n",
      "License       : GNU General Public License\n",
      "Build OS      : Linux64-sdk\n",
      "Build date    : 20210428\n",
      "Build host    : gmsh.info\n",
      "Build options : 64Bit ALGLIB ANN Bamg Blas[petsc] Blossom Cgns DIntegration Dlopen DomHex Eigen Fltk Gmm Hxt Jpeg[fltk] Kbipack Lapack[petsc] LinuxJoystick MathEx Med Mesh Metis Mmg Mpeg Netgen ONELAB ONELABMetamodel OpenCASCADE OpenCASCADE-CAF OpenGL OptHom PETSc Parser Plugins Png[fltk] Post QuadTri Solver TetGen/BR Voro++ Zlib[fltk]\n",
      "FLTK version  : 1.4.0\n",
      "PETSc version : 3.14.4 (real arithmtic)\n",
      "OCC version   : 7.6.0\n",
      "MED version   : 4.1.0\n",
      "Packaged by   : geuzaine\n",
      "Web site      : https://gmsh.info\n",
      "Issue tracker : https://gitlab.onelab.info/gmsh/gmsh/issues\n",
      "-------------------------------------------------------\n"
     ]
    }
   ],
   "source": [
    "gmsh.fltk.run()"
   ]
  },
  {
   "cell_type": "code",
   "execution_count": 62,
   "id": "cc9d2d40",
   "metadata": {},
   "outputs": [],
   "source": [
    "gmsh.finalize()"
   ]
  }
 ],
 "metadata": {
  "kernelspec": {
   "display_name": "Python 3 (ipykernel)",
   "language": "python",
   "name": "python3"
  },
  "language_info": {
   "codemirror_mode": {
    "name": "ipython",
    "version": 3
   },
   "file_extension": ".py",
   "mimetype": "text/x-python",
   "name": "python",
   "nbconvert_exporter": "python",
   "pygments_lexer": "ipython3",
   "version": "3.9.12"
  }
 },
 "nbformat": 4,
 "nbformat_minor": 5
}
