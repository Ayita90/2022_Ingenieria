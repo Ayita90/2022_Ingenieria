{
 "cells": [
  {
   "cell_type": "code",
   "execution_count": 9,
   "id": "7bfa9737",
   "metadata": {},
   "outputs": [],
   "source": [
    "import numpy as np"
   ]
  },
  {
   "cell_type": "markdown",
   "id": "92a2044b",
   "metadata": {},
   "source": [
    "# Primeros pasos en python "
   ]
  },
  {
   "cell_type": "markdown",
   "id": "9ad332f1",
   "metadata": {},
   "source": [
    "##  tipos de variables\n",
    "\n",
    "primero vemos una lista:"
   ]
  },
  {
   "cell_type": "code",
   "execution_count": 1,
   "id": "4761b171",
   "metadata": {},
   "outputs": [],
   "source": [
    "v = [ 1, 3, 4, 6.0 , 'una variable mas', [0, -1, -2] ]"
   ]
  },
  {
   "cell_type": "code",
   "execution_count": 2,
   "id": "5cf73de9",
   "metadata": {},
   "outputs": [],
   "source": [
    "lv = len(v)"
   ]
  },
  {
   "cell_type": "code",
   "execution_count": 3,
   "id": "a68d318c",
   "metadata": {},
   "outputs": [
    {
     "data": {
      "text/plain": [
       "6"
      ]
     },
     "execution_count": 3,
     "metadata": {},
     "output_type": "execute_result"
    }
   ],
   "source": [
    "lv"
   ]
  },
  {
   "cell_type": "markdown",
   "id": "3f1b9d0d",
   "metadata": {},
   "source": [
    "investigamos los elementos de nuestra lista:"
   ]
  },
  {
   "cell_type": "code",
   "execution_count": 13,
   "id": "560370fc",
   "metadata": {},
   "outputs": [
    {
     "name": "stdout",
     "output_type": "stream",
     "text": [
      "0 1\n",
      "1 3\n",
      "2 4\n",
      "3 6.0\n",
      "4 una variable mas\n",
      "5 [0, -1, -2]\n"
     ]
    }
   ],
   "source": [
    "for i, vi in enumerate(v):\n",
    "    print(i, vi)"
   ]
  },
  {
   "cell_type": "markdown",
   "id": "55755b29",
   "metadata": {},
   "source": [
    "sumamos sus elementos, si se puede"
   ]
  },
  {
   "cell_type": "code",
   "execution_count": 5,
   "id": "4e7b15db",
   "metadata": {},
   "outputs": [
    {
     "name": "stdout",
     "output_type": "stream",
     "text": [
      "unsupported operand type(s) for +=: 'float' and 'str'\n",
      "no se sumó el componente 4 una variable mas\n",
      "unsupported operand type(s) for +=: 'float' and 'list'\n",
      "no se sumó el componente 5 [0, -1, -2]\n"
     ]
    }
   ],
   "source": [
    "S = 0\n",
    "for i, vi in enumerate(v):\n",
    "    try:\n",
    "        S += vi\n",
    "    except Exception as E: \n",
    "        print(E) # imprimo el error que me dio la operacin anterior.\n",
    "        print('no se sumó el componente',i,  vi)\n",
    "        continue\n",
    "    "
   ]
  },
  {
   "cell_type": "code",
   "execution_count": 7,
   "id": "00028289",
   "metadata": {},
   "outputs": [
    {
     "data": {
      "text/plain": [
       "14.0"
      ]
     },
     "execution_count": 7,
     "metadata": {},
     "output_type": "execute_result"
    }
   ],
   "source": [
    "S"
   ]
  },
  {
   "cell_type": "markdown",
   "id": "ad95a769",
   "metadata": {},
   "source": [
    "sumamos si se puede con código más limio: los try-except nos sirve para entender y rastrear errores pero tratamos de evitarlo en versiones finales. "
   ]
  },
  {
   "cell_type": "code",
   "execution_count": 14,
   "id": "c97a37e1",
   "metadata": {},
   "outputs": [],
   "source": [
    "sumables = [float, int, np.float32, np.float64]"
   ]
  },
  {
   "cell_type": "code",
   "execution_count": 20,
   "id": "6a6cc2bf",
   "metadata": {},
   "outputs": [],
   "source": [
    "S = 0\n",
    "for i, vi in enumerate(v):\n",
    "    if type(vi) in sumables: # or type(vi) == int:\n",
    "        S += vi"
   ]
  },
  {
   "cell_type": "code",
   "execution_count": 21,
   "id": "76f6de66",
   "metadata": {},
   "outputs": [
    {
     "data": {
      "text/plain": [
       "14.0"
      ]
     },
     "execution_count": 21,
     "metadata": {},
     "output_type": "execute_result"
    }
   ],
   "source": [
    "S"
   ]
  },
  {
   "cell_type": "markdown",
   "id": "ac6bf0f6",
   "metadata": {},
   "source": [
    "trato de detectar los elementos en listas dentro de la lista:"
   ]
  },
  {
   "cell_type": "code",
   "execution_count": 22,
   "id": "59a7ce34",
   "metadata": {},
   "outputs": [
    {
     "data": {
      "text/plain": [
       "list"
      ]
     },
     "execution_count": 22,
     "metadata": {},
     "output_type": "execute_result"
    }
   ],
   "source": [
    "type(v[-1])"
   ]
  },
  {
   "cell_type": "code",
   "execution_count": 25,
   "id": "794ffa8a",
   "metadata": {},
   "outputs": [],
   "source": [
    "S = 0\n",
    "for i, vi in enumerate(v):\n",
    "    if type(vi) in sumables: # or type(vi) == int:\n",
    "        S += vi\n",
    "    elif type(vi) == list:\n",
    "        for vvi in vi:\n",
    "            if type(vvi) in sumables:\n",
    "                S+=vvi"
   ]
  },
  {
   "cell_type": "code",
   "execution_count": 26,
   "id": "b97cfbe2",
   "metadata": {},
   "outputs": [
    {
     "data": {
      "text/plain": [
       "11.0"
      ]
     },
     "execution_count": 26,
     "metadata": {},
     "output_type": "execute_result"
    }
   ],
   "source": [
    "S"
   ]
  },
  {
   "cell_type": "code",
   "execution_count": null,
   "id": "bc6872db",
   "metadata": {},
   "outputs": [],
   "source": []
  }
 ],
 "metadata": {
  "kernelspec": {
   "display_name": "Python 3 (ipykernel)",
   "language": "python",
   "name": "python3"
  },
  "language_info": {
   "codemirror_mode": {
    "name": "ipython",
    "version": 3
   },
   "file_extension": ".py",
   "mimetype": "text/x-python",
   "name": "python",
   "nbconvert_exporter": "python",
   "pygments_lexer": "ipython3",
   "version": "3.9.6"
  }
 },
 "nbformat": 4,
 "nbformat_minor": 5
}
